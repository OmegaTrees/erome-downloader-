import requests
import os
from bs4 import BeautifulSoup

def download_video(url, headers, file_name):
    try:
        response = requests.get(url, headers=headers, stream=True)
        response.raise_for_status()  # Raise an error for bad responses

        with open(file_name, 'wb') as f:
            for chunk in response.iter_content(chunk_size=8192):
                f.write(chunk)

        abs_path = os.path.abspath(file_name)
        print(f"Download complete: {abs_path}")

    except Exception as e:
        print(f"An error occurred: {e}")

def extract_video_urls(page_url):
    try:
        response = requests.get(page_url)
        response.raise_for_status()
        soup = BeautifulSoup(response.text, 'html.parser')
        
        video_urls = []
        # Find all <source> tags and extract the 'src' attribute
        for source in soup.find_all('source'):
            video_url = source.get('src')
            if video_url:
                video_urls.append(video_url)
        
        return video_urls

    except Exception as e:
        print(f"An error occurred while fetching video URLs: {e}")
        return []

if __name__ == '__main__':
    headers = {
        "User-Agent": "Mozilla/5.0 (Windows NT 10.0; Win64; x64; rv:132.0) Gecko/20100101 Firefox/132.0",
        "Accept": "video/webm,video/ogg,video/*;q=0.9,application/ogg;q=0.7,audio/*;q=0.6,*/*;q=0.5",
        "Accept-Language": "en-US,en;q=0.5",
        "Connection": "keep-alive",
        "Referer": "https://www.erome.com/"
    }
    
    # Ask for the input page URL
    page_url = input("Please enter the URL of the page to extract video links: ")

    # Extract video URLs
    video_urls = extract_video_urls(page_url)

    # Download each video
    for index, video_url in enumerate(video_urls, start=1):
        print(f"Downloading video {index}: {video_url}")
        download_video(video_url, headers, f"video_{index}.mp4")
